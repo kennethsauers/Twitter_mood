{
 "cells": [
  {
   "cell_type": "code",
   "execution_count": 1,
   "metadata": {
    "collapsed": true
   },
   "outputs": [],
   "source": [
    "from openpyxl import load_workbook\n",
    "import numpy as np\n",
    "import matplotlib.pyplot as mlp\n",
    "wb = load_workbook(filename='new_big_file.xlsx', read_only=True)\n",
    "ws = wb['nigger']\n",
    "\n",
    "i = 0\n"
   ]
  },
  {
   "cell_type": "code",
   "execution_count": 3,
   "metadata": {
    "collapsed": false,
    "deletable": true,
    "editable": true,
    "scrolled": true
   },
   "outputs": [
    {
     "name": "stdout",
     "output_type": "stream",
     "text": [
      "<built-in method index of tuple object at 0x7fe2a5a3a6c8>\n",
      "<built-in method index of tuple object at 0x7fe2a5a9a5c8>\n",
      "<built-in method index of tuple object at 0x7fe2a5a3a6c8>\n",
      "<built-in method index of tuple object at 0x7fe2a5a9a5c8>\n",
      "<built-in method index of tuple object at 0x7fe2a5a3a6c8>\n",
      "<built-in method index of tuple object at 0x7fe2a5a9a5c8>\n",
      "<built-in method index of tuple object at 0x7fe2a5a3a6c8>\n",
      "<built-in method index of tuple object at 0x7fe2a5a9a5c8>\n",
      "<built-in method index of tuple object at 0x7fe2a5a3a6c8>\n",
      "<built-in method index of tuple object at 0x7fe2a5a9a5c8>\n",
      "<built-in method index of tuple object at 0x7fe2a5a3a6c8>\n",
      "<built-in method index of tuple object at 0x7fe2a5a9a5c8>\n",
      "<built-in method index of tuple object at 0x7fe2a5a3a6c8>\n",
      "<built-in method index of tuple object at 0x7fe2a5a9a5c8>\n",
      "<built-in method index of tuple object at 0x7fe2a5a3a6c8>\n",
      "<built-in method index of tuple object at 0x7fe2a5a9a5c8>\n",
      "<built-in method index of tuple object at 0x7fe2a5a3a6c8>\n",
      "<built-in method index of tuple object at 0x7fe2a5a9a5c8>\n",
      "<built-in method index of tuple object at 0x7fe2a5a3a6c8>\n",
      "<built-in method index of tuple object at 0x7fe2a5a9a5c8>\n",
      "<built-in method index of tuple object at 0x7fe2a5a3a6c8>\n",
      "<built-in method index of tuple object at 0x7fe2a5a9a5c8>\n",
      "<built-in method index of tuple object at 0x7fe2a5a3a6c8>\n",
      "<built-in method index of tuple object at 0x7fe2a5a9a5c8>\n",
      "<built-in method index of tuple object at 0x7fe2a5a3a6c8>\n",
      "<built-in method index of tuple object at 0x7fe2a5a9a5c8>\n",
      "<built-in method index of tuple object at 0x7fe2a5a3a6c8>\n",
      "<built-in method index of tuple object at 0x7fe2a5a9a5c8>\n",
      "<built-in method index of tuple object at 0x7fe2a5a3a6c8>\n",
      "<built-in method index of tuple object at 0x7fe2a5a9a5c8>\n",
      "<built-in method index of tuple object at 0x7fe2a5a3a6c8>\n",
      "<built-in method index of tuple object at 0x7fe2a5a9a5c8>\n",
      "<built-in method index of tuple object at 0x7fe2a5a3a6c8>\n",
      "<built-in method index of tuple object at 0x7fe2a5a9a5c8>\n",
      "<built-in method index of tuple object at 0x7fe2a5a3a6c8>\n",
      "<built-in method index of tuple object at 0x7fe2a5a9a5c8>\n",
      "<built-in method index of tuple object at 0x7fe2a5a3a6c8>\n",
      "<built-in method index of tuple object at 0x7fe2a5a9a5c8>\n",
      "<built-in method index of tuple object at 0x7fe2a5a3a6c8>\n",
      "<built-in method index of tuple object at 0x7fe2a5a9a5c8>\n",
      "<built-in method index of tuple object at 0x7fe2a5a3a6c8>\n",
      "<built-in method index of tuple object at 0x7fe2a5a9a5c8>\n",
      "<built-in method index of tuple object at 0x7fe2a5a3a6c8>\n",
      "<built-in method index of tuple object at 0x7fe2a5a9a5c8>\n",
      "<built-in method index of tuple object at 0x7fe2a5a3a6c8>\n",
      "<built-in method index of tuple object at 0x7fe2a5a9a5c8>\n",
      "<built-in method index of tuple object at 0x7fe2a5a3a6c8>\n",
      "<built-in method index of tuple object at 0x7fe2a5a9a5c8>\n",
      "<built-in method index of tuple object at 0x7fe2a5a3a6c8>\n",
      "<built-in method index of tuple object at 0x7fe2a5a9a5c8>\n",
      "<built-in method index of tuple object at 0x7fe2a5a3a6c8>\n",
      "<built-in method index of tuple object at 0x7fe2a5a9a5c8>\n",
      "<built-in method index of tuple object at 0x7fe2a5a3a6c8>\n",
      "<built-in method index of tuple object at 0x7fe2a5a9a5c8>\n",
      "<built-in method index of tuple object at 0x7fe2a5a3a6c8>\n",
      "<built-in method index of tuple object at 0x7fe2a5a9a5c8>\n",
      "<built-in method index of tuple object at 0x7fe2a5a3a6c8>\n",
      "<built-in method index of tuple object at 0x7fe2a5a9a5c8>\n",
      "<built-in method index of tuple object at 0x7fe2a5a3a6c8>\n",
      "<built-in method index of tuple object at 0x7fe2a5a9a5c8>\n",
      "<built-in method index of tuple object at 0x7fe2a5a3a6c8>\n",
      "<built-in method index of tuple object at 0x7fe2a5a9a5c8>\n",
      "<built-in method index of tuple object at 0x7fe2a5a3a6c8>\n",
      "<built-in method index of tuple object at 0x7fe2a5a9a5c8>\n",
      "<built-in method index of tuple object at 0x7fe2a5a3a6c8>\n",
      "<built-in method index of tuple object at 0x7fe2a5a9a5c8>\n",
      "<built-in method index of tuple object at 0x7fe2a5a3a6c8>\n",
      "<built-in method index of tuple object at 0x7fe2a5a9a5c8>\n",
      "<built-in method index of tuple object at 0x7fe2a5a3a6c8>\n",
      "<built-in method index of tuple object at 0x7fe2a5a9a5c8>\n",
      "<built-in method index of tuple object at 0x7fe2a5a3a6c8>\n",
      "<built-in method index of tuple object at 0x7fe2a5a9a5c8>\n",
      "<built-in method index of tuple object at 0x7fe2a5a3a6c8>\n",
      "<built-in method index of tuple object at 0x7fe2a5a9a5c8>\n",
      "<built-in method index of tuple object at 0x7fe2a5a3a6c8>\n",
      "<built-in method index of tuple object at 0x7fe2a5a9a5c8>\n",
      "<built-in method index of tuple object at 0x7fe2a5a3a6c8>\n",
      "<built-in method index of tuple object at 0x7fe2a5a9a5c8>\n",
      "<built-in method index of tuple object at 0x7fe2a5a3a6c8>\n",
      "<built-in method index of tuple object at 0x7fe2a5a9a5c8>\n",
      "<built-in method index of tuple object at 0x7fe2a5a3a6c8>\n",
      "<built-in method index of tuple object at 0x7fe2a5a9a5c8>\n",
      "<built-in method index of tuple object at 0x7fe2a5a3a6c8>\n",
      "<built-in method index of tuple object at 0x7fe2a5a9a5c8>\n",
      "<built-in method index of tuple object at 0x7fe2a5a3a6c8>\n",
      "<built-in method index of tuple object at 0x7fe2a5a9a5c8>\n",
      "<built-in method index of tuple object at 0x7fe2a5a3a6c8>\n",
      "<built-in method index of tuple object at 0x7fe2a5a9a5c8>\n",
      "<built-in method index of tuple object at 0x7fe2a5a3a6c8>\n",
      "<built-in method index of tuple object at 0x7fe2a5a9a5c8>\n",
      "<built-in method index of tuple object at 0x7fe2a5a3a6c8>\n",
      "<built-in method index of tuple object at 0x7fe2a5a9a5c8>\n",
      "<built-in method index of tuple object at 0x7fe2a5a3a6c8>\n",
      "<built-in method index of tuple object at 0x7fe2a5a9a5c8>\n",
      "<built-in method index of tuple object at 0x7fe2a5a3a6c8>\n",
      "<built-in method index of tuple object at 0x7fe2a5a9a5c8>\n",
      "<built-in method index of tuple object at 0x7fe2a5a3a6c8>\n",
      "<built-in method index of tuple object at 0x7fe2a5a9a5c8>\n",
      "<built-in method index of tuple object at 0x7fe2a5a3a6c8>\n",
      "<built-in method index of tuple object at 0x7fe2a5a9a5c8>\n"
     ]
    }
   ],
   "source": [
    "for row in ws.rows:\n",
    "    print(row.index)"
   ]
  },
  {
   "cell_type": "code",
   "execution_count": 12,
   "metadata": {
    "collapsed": false
   },
   "outputs": [],
   "source": [
    "i = 0\n",
    "x = np.arange(0,7,.5)\n",
    "for cell in row:\n",
    "    i +=1\n",
    "    np.put(x,i, cell.value)"
   ]
  },
  {
   "cell_type": "code",
   "execution_count": 21,
   "metadata": {
    "collapsed": false
   },
   "outputs": [
    {
     "data": {
      "text/plain": [
       "array([[ 0.      ,  0.228899, -0.01815 ,  0.025508, -0.052161,  0.05258 ,\n",
       "         0.058142,  0.055351,  0.327778,  0.108448,  0.23307 ,  5.5     ,\n",
       "         6.      ,  6.5     ]])"
      ]
     },
     "execution_count": 21,
     "metadata": {},
     "output_type": "execute_result"
    }
   ],
   "source": [
    "x.reshape(1,14)"
   ]
  },
  {
   "cell_type": "code",
   "execution_count": 22,
   "metadata": {
    "collapsed": false
   },
   "outputs": [
    {
     "data": {
      "text/plain": [
       "array([ 0.      ,  0.228899, -0.01815 ,  0.025508, -0.052161,  0.05258 ,\n",
       "        0.058142,  0.055351,  0.327778,  0.108448,  0.23307 ,  5.5     ,\n",
       "        6.      ,  6.5     ])"
      ]
     },
     "execution_count": 22,
     "metadata": {},
     "output_type": "execute_result"
    }
   ],
   "source": [
    "x"
   ]
  },
  {
   "cell_type": "code",
   "execution_count": 30,
   "metadata": {
    "collapsed": false
   },
   "outputs": [
    {
     "data": {
      "image/png": "[encoded data removed]",
      "text/plain": [
       "<matplotlib.figure.Figure at 0x7fe2a5a00128>"
      ]
     },
     "metadata": {},
     "output_type": "display_data"
    }
   ],
   "source": [
    "y = np.array([1,1,1,1,1,1,1,1,1,1,1,1,1,1])\n",
    "mlp.plot(x,y)\n",
    "mlp.show()"
   ]
  },
  {
   "cell_type": "code",
   "execution_count": 25,
   "metadata": {
    "collapsed": false,
    "deletable": true,
    "editable": true,
    "scrolled": true
   },
   "outputs": [
    {
     "ename": "IndexError",
     "evalue": "index 14 is out of bounds for axis 0 with size 14",
     "output_type": "error",
     "traceback": [
      "\u001b[0;31m---------------------------------------------------------------------------\u001b[0m",
      "\u001b[0;31mIndexError\u001b[0m                                Traceback (most recent call last)",
      "\u001b[0;32m<ipython-input-25-d9e4ad29f173>\u001b[0m in \u001b[0;36m<module>\u001b[0;34m()\u001b[0m\n\u001b[1;32m      5\u001b[0m     \u001b[0;31m#runs 10 times goes right\u001b[0m\u001b[0;34m\u001b[0m\u001b[0;34m\u001b[0m\u001b[0m\n\u001b[1;32m      6\u001b[0m     \u001b[0;32mfor\u001b[0m \u001b[0mcell\u001b[0m \u001b[0;32min\u001b[0m \u001b[0mrow\u001b[0m\u001b[0;34m:\u001b[0m\u001b[0;34m\u001b[0m\u001b[0m\n\u001b[0;32m----> 7\u001b[0;31m         \u001b[0mnp\u001b[0m\u001b[0;34m.\u001b[0m\u001b[0mput\u001b[0m\u001b[0;34m(\u001b[0m\u001b[0mx\u001b[0m\u001b[0;34m,\u001b[0m\u001b[0mi\u001b[0m\u001b[0;34m,\u001b[0m\u001b[0mcell\u001b[0m\u001b[0;34m.\u001b[0m\u001b[0mvalue\u001b[0m\u001b[0;34m)\u001b[0m\u001b[0;34m\u001b[0m\u001b[0m\n\u001b[0m\u001b[1;32m      8\u001b[0m         \u001b[0mi\u001b[0m \u001b[0;34m=\u001b[0m \u001b[0mi\u001b[0m \u001b[0;34m+\u001b[0m \u001b[0;36m1\u001b[0m\u001b[0;34m\u001b[0m\u001b[0m\n\u001b[1;32m      9\u001b[0m     \u001b[0mi\u001b[0m \u001b[0;34m=\u001b[0m \u001b[0;36m0\u001b[0m\u001b[0;34m\u001b[0m\u001b[0m\n",
      "\u001b[0;32m/home/hedonist/.local/lib/python3.5/site-packages/numpy/core/fromnumeric.py\u001b[0m in \u001b[0;36mput\u001b[0;34m(a, ind, v, mode)\u001b[0m\n\u001b[1;32m    453\u001b[0m                         \"not {name}\".format(name=type(a).__name__))\n\u001b[1;32m    454\u001b[0m \u001b[0;34m\u001b[0m\u001b[0m\n\u001b[0;32m--> 455\u001b[0;31m     \u001b[0;32mreturn\u001b[0m \u001b[0mput\u001b[0m\u001b[0;34m(\u001b[0m\u001b[0mind\u001b[0m\u001b[0;34m,\u001b[0m \u001b[0mv\u001b[0m\u001b[0;34m,\u001b[0m \u001b[0mmode\u001b[0m\u001b[0;34m=\u001b[0m\u001b[0mmode\u001b[0m\u001b[0;34m)\u001b[0m\u001b[0;34m\u001b[0m\u001b[0m\n\u001b[0m\u001b[1;32m    456\u001b[0m \u001b[0;34m\u001b[0m\u001b[0m\n\u001b[1;32m    457\u001b[0m \u001b[0;34m\u001b[0m\u001b[0m\n",
      "\u001b[0;31mIndexError\u001b[0m: index 14 is out of bounds for axis 0 with size 14"
     ]
    }
   ],
   "source": [
    "\n",
    "q = 0\n",
    "#run 100 times goes down\n",
    "for row in ws.rows:\n",
    "    #runs 10 times goes right\n",
    "    for cell in row:\n",
    "        np.put(x,i,cell.value)\n",
    "        i = i + 1\n",
    "    i = 0\n",
    "    q = q + 1\n",
    "    #print(q)\n",
    "    mlp.plot(y,x, linewidth = 1)\n",
    "    mlp.show() \n"
   ]
  },
  {
   "cell_type": "code",
   "execution_count": null,
   "metadata": {
    "collapsed": true
   },
   "outputs": [],
   "source": []
  }
 ],
 "metadata": {
  "anaconda-cloud": {},
  "kernelspec": {
   "display_name": "Python [conda root]",
   "language": "python",
   "name": "conda-root-py"
  },
  "language_info": {
   "codemirror_mode": {
    "name": "ipython",
    "version": 3
   },
   "file_extension": ".py",
   "mimetype": "text/x-python",
   "name": "python",
   "nbconvert_exporter": "python",
   "pygments_lexer": "ipython3",
   "version": "3.5.2"
  }
 },
 "nbformat": 4,
 "nbformat_minor": 2
}
